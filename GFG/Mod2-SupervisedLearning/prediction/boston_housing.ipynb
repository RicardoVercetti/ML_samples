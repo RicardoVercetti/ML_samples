{
 "cells": [
  {
   "cell_type": "code",
   "execution_count": null,
   "metadata": {},
   "outputs": [],
   "source": [
    "\n",
    "\n",
    "data_url = \"/home/jehoniah/Documents/Personel/Repos/ML_samples/GFG/Mod2-SupervisedLearning/res/BostonHousing.csv\""
   ]
  }
 ],
 "metadata": {
  "language_info": {
   "name": "python"
  }
 },
 "nbformat": 4,
 "nbformat_minor": 2
}
